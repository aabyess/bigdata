{
 "cells": [
  {
   "cell_type": "code",
   "execution_count": 7,
   "id": "61fc1878",
   "metadata": {
    "scrolled": true
   },
   "outputs": [],
   "source": [
    "import pandas as pd\n",
    "mpg = pd.read_csv('C:/Users/213/Data/mpg.csv')"
   ]
  },
  {
   "cell_type": "code",
   "execution_count": 8,
   "id": "5b8bb762",
   "metadata": {},
   "outputs": [
    {
     "data": {
      "text/plain": [
       "<AxesSubplot:ylabel='hwy'>"
      ]
     },
     "execution_count": 8,
     "metadata": {},
     "output_type": "execute_result"
    },
    {
     "data": {
      "image/png": "[encoded data removed]",
      "text/plain": [
       "<Figure size 640x480 with 1 Axes>"
      ]
     },
     "metadata": {},
     "output_type": "display_data"
    }
   ],
   "source": [
    "import seaborn as sns\n",
    "sns.boxplot(data = mpg, y = 'hwy')"
   ]
  },
  {
   "cell_type": "code",
   "execution_count": 10,
   "id": "38da56bc",
   "metadata": {},
   "outputs": [
    {
     "data": {
      "text/plain": [
       "18.0"
      ]
     },
     "execution_count": 10,
     "metadata": {},
     "output_type": "execute_result"
    }
   ],
   "source": [
    "pct25 = mpg['hwy'].quantile(.25)\n",
    "pct25"
   ]
  },
  {
   "cell_type": "code",
   "execution_count": 11,
   "id": "a7d56113",
   "metadata": {},
   "outputs": [
    {
     "data": {
      "text/plain": [
       "27.0"
      ]
     },
     "execution_count": 11,
     "metadata": {},
     "output_type": "execute_result"
    }
   ],
   "source": [
    "pct75 = mpg['hwy'].quantile(.75)\n",
    "pct75"
   ]
  },
  {
   "cell_type": "code",
   "execution_count": 12,
   "id": "8a9c732b",
   "metadata": {},
   "outputs": [
    {
     "data": {
      "text/plain": [
       "9.0"
      ]
     },
     "execution_count": 12,
     "metadata": {},
     "output_type": "execute_result"
    }
   ],
   "source": [
    "#IQR 구하기\n",
    "iqr = pct75 - pct25\n",
    "iqr"
   ]
  },
  {
   "cell_type": "code",
   "execution_count": 13,
   "id": "5a001766",
   "metadata": {},
   "outputs": [
    {
     "data": {
      "text/plain": [
       "4.5"
      ]
     },
     "execution_count": 13,
     "metadata": {},
     "output_type": "execute_result"
    }
   ],
   "source": [
    "#하한, 상한 구하기\n",
    "pct25 - 1.5 *iqr"
   ]
  },
  {
   "cell_type": "code",
   "execution_count": 14,
   "id": "4f1ba605",
   "metadata": {},
   "outputs": [
    {
     "data": {
      "text/plain": [
       "40.5"
      ]
     },
     "execution_count": 14,
     "metadata": {},
     "output_type": "execute_result"
    }
   ],
   "source": [
    "pct75 + 1.5 * iqr"
   ]
  },
  {
   "cell_type": "code",
   "execution_count": 18,
   "id": "1ad8f513",
   "metadata": {},
   "outputs": [],
   "source": [
    "# 극단치를 결측 처리함\n",
    "# 주의 : np.where()의 각 조건을 괄호로 감싸주어야 함\n",
    "import numpy as np\n",
    "mpg['hwy'] = np.where( (mpg['hwy'] < 4.5 )| (mpg['hwy'] >40.5),\n",
    "                       np.nan, mpg['hwy']\n",
    "                        )"
   ]
  },
  {
   "cell_type": "code",
   "execution_count": 19,
   "id": "6e0e7b25",
   "metadata": {},
   "outputs": [
    {
     "data": {
      "text/plain": [
       "3"
      ]
     },
     "execution_count": 19,
     "metadata": {},
     "output_type": "execute_result"
    }
   ],
   "source": [
    "# 결측 처리된 값의 수 확인\n",
    "mpg['hwy'].isna().sum()"
   ]
  },
  {
   "cell_type": "code",
   "execution_count": 20,
   "id": "62f70b28",
   "metadata": {},
   "outputs": [
    {
     "data": {
      "text/html": [
       "<div>\n",
       "<style scoped>\n",
       "    .dataframe tbody tr th:only-of-type {\n",
       "        vertical-align: middle;\n",
       "    }\n",
       "\n",
       "    .dataframe tbody tr th {\n",
       "        vertical-align: top;\n",
       "    }\n",
       "\n",
       "    .dataframe thead th {\n",
       "        text-align: right;\n",
       "    }\n",
       "</style>\n",
       "<table border=\"1\" class=\"dataframe\">\n",
       "  <thead>\n",
       "    <tr style=\"text-align: right;\">\n",
       "      <th></th>\n",
       "      <th>mean_hwy</th>\n",
       "    </tr>\n",
       "    <tr>\n",
       "      <th>drv</th>\n",
       "      <th></th>\n",
       "    </tr>\n",
       "  </thead>\n",
       "  <tbody>\n",
       "    <tr>\n",
       "      <th>4</th>\n",
       "      <td>19.174757</td>\n",
       "    </tr>\n",
       "    <tr>\n",
       "      <th>f</th>\n",
       "      <td>27.728155</td>\n",
       "    </tr>\n",
       "    <tr>\n",
       "      <th>r</th>\n",
       "      <td>21.000000</td>\n",
       "    </tr>\n",
       "  </tbody>\n",
       "</table>\n",
       "</div>"
      ],
      "text/plain": [
       "      mean_hwy\n",
       "drv           \n",
       "4    19.174757\n",
       "f    27.728155\n",
       "r    21.000000"
      ]
     },
     "execution_count": 20,
     "metadata": {},
     "output_type": "execute_result"
    }
   ],
   "source": [
    "#구동방식(drv)에 따라 고속도로 연비(hwy)가 어떻게 달라지는지 확인\n",
    "mpg.dropna(subset = ['hwy']).groupby('drv').agg(mean_hwy =('hwy','mean'))"
   ]
  },
  {
   "cell_type": "code",
   "execution_count": 23,
   "id": "3302edae",
   "metadata": {},
   "outputs": [],
   "source": [
    "#Lab 7 : 혼자서 해보기\n",
    "#1. mpg 데이터에서 구동방식(drv)별 도시 연비(cty)를 분석해 봅시다.\n",
    "#2. mpg 데이터에 이상값과 극단값을 할당합니다."
   ]
  },
  {
   "cell_type": "code",
   "execution_count": 22,
   "id": "f52538a8",
   "metadata": {},
   "outputs": [],
   "source": [
    "# [9, 13, 57, 92]행의 drv 값을 k로 할당\n",
    "mpg.loc[[9, 13, 57, 92], 'drv'] = 'k'"
   ]
  },
  {
   "cell_type": "code",
   "execution_count": 24,
   "id": "177c0b1f",
   "metadata": {},
   "outputs": [],
   "source": [
    "# [28, 42, 128, 202]행의 도시 연비 값을 각각 [3, 4, 39, 42]로 할당\n",
    "# 도시 연비 값 [3, 4, 39, 42]은 (pct25 - 1.5 * iqr) ~ (pct75 + 1.5 * iqr) 범위 밖의\n",
    "mpg.loc[[28, 42, 128, 202], 'cty'] = [3, 4, 39, 42]"
   ]
  },
  {
   "cell_type": "code",
   "execution_count": 25,
   "id": "da39ffe2",
   "metadata": {},
   "outputs": [
    {
     "data": {
      "text/plain": [
       "f    106\n",
       "4    100\n",
       "r     24\n",
       "k      4\n",
       "Name: drv, dtype: int64"
      ]
     },
     "execution_count": 25,
     "metadata": {},
     "output_type": "execute_result"
    }
   ],
   "source": [
    "#: drv에 이상치가 있는지 확인\n",
    "mpg['drv'].value_counts()"
   ]
  },
  {
   "cell_type": "code",
   "execution_count": 27,
   "id": "c3a853b8",
   "metadata": {},
   "outputs": [],
   "source": [
    "# drv 이상 값 k에 대해 NaN 처리\n",
    "mpg['drv'] = np.where(mpg['drv'].isin(['4','f','r']),mpg['drv'], np.nan)"
   ]
  },
  {
   "cell_type": "code",
   "execution_count": 28,
   "id": "7745953a",
   "metadata": {},
   "outputs": [
    {
     "data": {
      "text/plain": [
       "4"
      ]
     },
     "execution_count": 28,
     "metadata": {},
     "output_type": "execute_result"
    }
   ],
   "source": [
    "# drv 변수에 이상 값(NaN)이 몇개인지 확인\n",
    "mpg['drv'].isna().sum()"
   ]
  },
  {
   "cell_type": "code",
   "execution_count": 29,
   "id": "c3f2e2ca",
   "metadata": {},
   "outputs": [
    {
     "data": {
      "text/plain": [
       "f    106\n",
       "4    100\n",
       "r     24\n",
       "Name: drv, dtype: int64"
      ]
     },
     "execution_count": 29,
     "metadata": {},
     "output_type": "execute_result"
    }
   ],
   "source": [
    "# drv에 따른 자동차 빈도 수 구하기\n",
    "mpg['drv'].value_counts()"
   ]
  },
  {
   "cell_type": "code",
   "execution_count": 30,
   "id": "5492a2a2",
   "metadata": {},
   "outputs": [
    {
     "data": {
      "text/plain": [
       "<AxesSubplot:ylabel='cty'>"
      ]
     },
     "execution_count": 30,
     "metadata": {},
     "output_type": "execute_result"
    },
    {
     "data": {
      "image/png": "[encoded data removed]",
      "text/plain": [
       "<Figure size 640x480 with 1 Axes>"
      ]
     },
     "metadata": {},
     "output_type": "display_data"
    }
   ],
   "source": [
    "# 도시연비 cty에 이상치가 있는지 확인하기 위해 박스 수염 그래프 그리기\n",
    "# (pct25 - 1.5 * iqr) ~ (pct75 + 1.5 * iqr) 범위 밖에 극단 값이 있음을 확인\n",
    "sns.boxplot(data=mpg, y='cty')"
   ]
  },
  {
   "cell_type": "code",
   "execution_count": 31,
   "id": "bb070a60",
   "metadata": {},
   "outputs": [
    {
     "data": {
      "text/plain": [
       "14.0"
      ]
     },
     "execution_count": 31,
     "metadata": {},
     "output_type": "execute_result"
    }
   ],
   "source": [
    "# 25% 값 구하기\n",
    "pct25 = mpg['cty'].quantile(0.25)\n",
    "pct25"
   ]
  },
  {
   "cell_type": "code",
   "execution_count": 33,
   "id": "51aa579e",
   "metadata": {},
   "outputs": [
    {
     "data": {
      "text/plain": [
       "19.0"
      ]
     },
     "execution_count": 33,
     "metadata": {},
     "output_type": "execute_result"
    }
   ],
   "source": [
    "# 75% 값 구하기\n",
    "pct75 = mpg['cty'].quantile(0.75)\n",
    "pct75"
   ]
  },
  {
   "cell_type": "code",
   "execution_count": 34,
   "id": "5d58c5dd",
   "metadata": {},
   "outputs": [
    {
     "data": {
      "text/plain": [
       "5.0"
      ]
     },
     "execution_count": 34,
     "metadata": {},
     "output_type": "execute_result"
    }
   ],
   "source": [
    "# iqr 값 구하기\n",
    "iqr = pct75 - pct25\n",
    "iqr"
   ]
  },
  {
   "cell_type": "code",
   "execution_count": 36,
   "id": "ac6fd149",
   "metadata": {},
   "outputs": [
    {
     "data": {
      "text/plain": [
       "6.5"
      ]
     },
     "execution_count": 36,
     "metadata": {},
     "output_type": "execute_result"
    }
   ],
   "source": [
    "pct25 - 1.5 * iqr"
   ]
  },
  {
   "cell_type": "code",
   "execution_count": 37,
   "id": "785011f8",
   "metadata": {},
   "outputs": [
    {
     "data": {
      "text/plain": [
       "26.5"
      ]
     },
     "execution_count": 37,
     "metadata": {},
     "output_type": "execute_result"
    }
   ],
   "source": [
    "pct75 + 1.5 * iqr"
   ]
  },
  {
   "cell_type": "code",
   "execution_count": 39,
   "id": "d6477702",
   "metadata": {},
   "outputs": [],
   "source": [
    "# (pct25 - 1.5 * iqr) ~ (pct75 + 1.5 * iqr) 범위 밖에 극단 값인 경우 NaN 처리\n",
    "mpg['cty']= np.where( (mpg['cty']<6.5)|(mpg['cty']>26.5),\n",
    "                      np.nan,mpg['cty'])"
   ]
  },
  {
   "cell_type": "code",
   "execution_count": 40,
   "id": "24968421",
   "metadata": {},
   "outputs": [
    {
     "data": {
      "text/plain": [
       "<AxesSubplot:ylabel='cty'>"
      ]
     },
     "execution_count": 40,
     "metadata": {},
     "output_type": "execute_result"
    },
    {
     "data": {
      "image/png": "[encoded data removed]",
      "text/plain": [
       "<Figure size 640x480 with 1 Axes>"
      ]
     },
     "metadata": {},
     "output_type": "display_data"
    }
   ],
   "source": [
    "# 도시연비 cty에 대해 박스 수염 그래프 그리기\n",
    "sns.boxplot(data=mpg, y='cty')\n"
   ]
  },
  {
   "cell_type": "code",
   "execution_count": 43,
   "id": "20a68498",
   "metadata": {},
   "outputs": [],
   "source": [
    "#8주차 08-1 파이썬으로 만들 수 있는 그래프 살펴 보기\n",
    "import seaborn as sns\n",
    "sns.set_theme(style=\"whitegrid\")\n",
    "#style : whitegrid, darkgrid, ticks, white, dark"
   ]
  },
  {
   "cell_type": "code",
   "execution_count": 44,
   "id": "13b80cd9",
   "metadata": {},
   "outputs": [],
   "source": [
    "# Load an example dataset with long-form data\n",
    "fmri =sns.load_dataset(\"fmri\")"
   ]
  },
  {
   "cell_type": "code",
   "execution_count": 45,
   "id": "c43336fc",
   "metadata": {},
   "outputs": [
    {
     "data": {
      "text/plain": [
       "<AxesSubplot:xlabel='timepoint', ylabel='signal'>"
      ]
     },
     "execution_count": 45,
     "metadata": {},
     "output_type": "execute_result"
    },
    {
     "data": {
      "image/png": "[encoded data removed]",
      "text/plain": [
       "<Figure size 640x480 with 1 Axes>"
      ]
     },
     "metadata": {},
     "output_type": "display_data"
    }
   ],
   "source": [
    "# Plot the responses for different events and \n",
    "sns.lineplot( x=\"timepoint\",y=\"signal\",\n",
    "              hue=\"region\",style='event',\n",
    "             data=fmri)"
   ]
  },
  {
   "cell_type": "code",
   "execution_count": 47,
   "id": "e700a0ae",
   "metadata": {},
   "outputs": [
    {
     "data": {
      "text/plain": [
       "[(3.0, 6.0), (10.0, 30.0)]"
      ]
     },
     "execution_count": 47,
     "metadata": {},
     "output_type": "execute_result"
    },
    {
     "data": {
      "image/png": "[encoded data removed]",
      "text/plain": [
       "<Figure size 640x480 with 1 Axes>"
      ]
     },
     "metadata": {},
     "output_type": "display_data"
    }
   ],
   "source": [
    "# x축, y축범위 설정\n",
    "sns.scatterplot(data=mpg, x='displ',y='hwy',hue ='drv').set(xlim = (3,6),ylim = (10,30))"
   ]
  },
  {
   "cell_type": "code",
   "execution_count": 52,
   "id": "a25867eb",
   "metadata": {},
   "outputs": [
    {
     "data": {
      "text/html": [
       "<div>\n",
       "<style scoped>\n",
       "    .dataframe tbody tr th:only-of-type {\n",
       "        vertical-align: middle;\n",
       "    }\n",
       "\n",
       "    .dataframe tbody tr th {\n",
       "        vertical-align: top;\n",
       "    }\n",
       "\n",
       "    .dataframe thead th {\n",
       "        text-align: right;\n",
       "    }\n",
       "</style>\n",
       "<table border=\"1\" class=\"dataframe\">\n",
       "  <thead>\n",
       "    <tr style=\"text-align: right;\">\n",
       "      <th></th>\n",
       "      <th>drv</th>\n",
       "      <th>mean_hwy</th>\n",
       "    </tr>\n",
       "  </thead>\n",
       "  <tbody>\n",
       "    <tr>\n",
       "      <th>0</th>\n",
       "      <td>4</td>\n",
       "      <td>19.050000</td>\n",
       "    </tr>\n",
       "    <tr>\n",
       "      <th>1</th>\n",
       "      <td>f</td>\n",
       "      <td>27.728155</td>\n",
       "    </tr>\n",
       "    <tr>\n",
       "      <th>2</th>\n",
       "      <td>r</td>\n",
       "      <td>20.791667</td>\n",
       "    </tr>\n",
       "  </tbody>\n",
       "</table>\n",
       "</div>"
      ],
      "text/plain": [
       "  drv   mean_hwy\n",
       "0   4  19.050000\n",
       "1   f  27.728155\n",
       "2   r  20.791667"
      ]
     },
     "execution_count": 52,
     "metadata": {},
     "output_type": "execute_result"
    }
   ],
   "source": [
    "# Lab 1 : 평균 막대 그래프 만들기\n",
    "# 그룹에 사용하는 컬럼(변수)가 기본적으로 인덱스가 된다.\n",
    "# 컬럼(변수)을 인덱스로 생성하지 않기 위해서 'as_index=False' 사용\n",
    "df_mpg = mpg.groupby('drv',as_index =False).agg(mean_hwy = ('hwy','mean'))\n",
    "df_mpg\n"
   ]
  },
  {
   "cell_type": "code",
   "execution_count": 53,
   "id": "37a61617",
   "metadata": {},
   "outputs": [
    {
     "data": {
      "text/plain": [
       "<AxesSubplot:xlabel='drv', ylabel='mean_hwy'>"
      ]
     },
     "execution_count": 53,
     "metadata": {},
     "output_type": "execute_result"
    },
    {
     "data": {
      "image/png": "[encoded data removed]",
      "text/plain": [
       "<Figure size 640x480 with 1 Axes>"
      ]
     },
     "metadata": {},
     "output_type": "display_data"
    }
   ],
   "source": [
    "sns.barplot(data=df_mpg, x='drv', y='mean_hwy')"
   ]
  },
  {
   "cell_type": "code",
   "execution_count": 54,
   "id": "d3305f3e",
   "metadata": {},
   "outputs": [
    {
     "data": {
      "text/html": [
       "<div>\n",
       "<style scoped>\n",
       "    .dataframe tbody tr th:only-of-type {\n",
       "        vertical-align: middle;\n",
       "    }\n",
       "\n",
       "    .dataframe tbody tr th {\n",
       "        vertical-align: top;\n",
       "    }\n",
       "\n",
       "    .dataframe thead th {\n",
       "        text-align: right;\n",
       "    }\n",
       "</style>\n",
       "<table border=\"1\" class=\"dataframe\">\n",
       "  <thead>\n",
       "    <tr style=\"text-align: right;\">\n",
       "      <th></th>\n",
       "      <th>drv</th>\n",
       "      <th>mean_hwy</th>\n",
       "    </tr>\n",
       "  </thead>\n",
       "  <tbody>\n",
       "    <tr>\n",
       "      <th>0</th>\n",
       "      <td>4</td>\n",
       "      <td>19.050000</td>\n",
       "    </tr>\n",
       "    <tr>\n",
       "      <th>1</th>\n",
       "      <td>f</td>\n",
       "      <td>27.728155</td>\n",
       "    </tr>\n",
       "    <tr>\n",
       "      <th>2</th>\n",
       "      <td>r</td>\n",
       "      <td>20.791667</td>\n",
       "    </tr>\n",
       "  </tbody>\n",
       "</table>\n",
       "</div>"
      ],
      "text/plain": [
       "  drv   mean_hwy\n",
       "0   4  19.050000\n",
       "1   f  27.728155\n",
       "2   r  20.791667"
      ]
     },
     "execution_count": 54,
     "metadata": {},
     "output_type": "execute_result"
    }
   ],
   "source": [
    "df_mpg"
   ]
  },
  {
   "cell_type": "code",
   "execution_count": 55,
   "id": "0ad83fde",
   "metadata": {},
   "outputs": [
    {
     "data": {
      "text/html": [
       "<div>\n",
       "<style scoped>\n",
       "    .dataframe tbody tr th:only-of-type {\n",
       "        vertical-align: middle;\n",
       "    }\n",
       "\n",
       "    .dataframe tbody tr th {\n",
       "        vertical-align: top;\n",
       "    }\n",
       "\n",
       "    .dataframe thead th {\n",
       "        text-align: right;\n",
       "    }\n",
       "</style>\n",
       "<table border=\"1\" class=\"dataframe\">\n",
       "  <thead>\n",
       "    <tr style=\"text-align: right;\">\n",
       "      <th></th>\n",
       "      <th>drv</th>\n",
       "      <th>mean_hwy</th>\n",
       "    </tr>\n",
       "  </thead>\n",
       "  <tbody>\n",
       "    <tr>\n",
       "      <th>1</th>\n",
       "      <td>f</td>\n",
       "      <td>27.728155</td>\n",
       "    </tr>\n",
       "    <tr>\n",
       "      <th>2</th>\n",
       "      <td>r</td>\n",
       "      <td>20.791667</td>\n",
       "    </tr>\n",
       "    <tr>\n",
       "      <th>0</th>\n",
       "      <td>4</td>\n",
       "      <td>19.050000</td>\n",
       "    </tr>\n",
       "  </tbody>\n",
       "</table>\n",
       "</div>"
      ],
      "text/plain": [
       "  drv   mean_hwy\n",
       "1   f  27.728155\n",
       "2   r  20.791667\n",
       "0   4  19.050000"
      ]
     },
     "execution_count": 55,
     "metadata": {},
     "output_type": "execute_result"
    }
   ],
   "source": [
    "# 크기 순의로 정렬\n",
    "df_mpg = df_mpg.sort_values('mean_hwy',ascending= False)\n",
    "df_mpg"
   ]
  },
  {
   "cell_type": "code",
   "execution_count": 57,
   "id": "e09b325c",
   "metadata": {},
   "outputs": [
    {
     "data": {
      "text/plain": [
       "<AxesSubplot:xlabel='drv', ylabel='mean_hwy'>"
      ]
     },
     "execution_count": 57,
     "metadata": {},
     "output_type": "execute_result"
    },
    {
     "data": {
      "image/png": "[encoded data removed]",
      "text/plain": [
       "<Figure size 640x480 with 1 Axes>"
      ]
     },
     "metadata": {},
     "output_type": "display_data"
    }
   ],
   "source": [
    "sns.barplot(data=df_mpg, x='drv', y='mean_hwy')"
   ]
  },
  {
   "cell_type": "code",
   "execution_count": 58,
   "id": "a84b2c3b",
   "metadata": {},
   "outputs": [
    {
     "data": {
      "text/html": [
       "<div>\n",
       "<style scoped>\n",
       "    .dataframe tbody tr th:only-of-type {\n",
       "        vertical-align: middle;\n",
       "    }\n",
       "\n",
       "    .dataframe tbody tr th {\n",
       "        vertical-align: top;\n",
       "    }\n",
       "\n",
       "    .dataframe thead th {\n",
       "        text-align: right;\n",
       "    }\n",
       "</style>\n",
       "<table border=\"1\" class=\"dataframe\">\n",
       "  <thead>\n",
       "    <tr style=\"text-align: right;\">\n",
       "      <th></th>\n",
       "      <th>drv</th>\n",
       "      <th>count_drv</th>\n",
       "    </tr>\n",
       "  </thead>\n",
       "  <tbody>\n",
       "    <tr>\n",
       "      <th>0</th>\n",
       "      <td>4</td>\n",
       "      <td>100</td>\n",
       "    </tr>\n",
       "    <tr>\n",
       "      <th>1</th>\n",
       "      <td>f</td>\n",
       "      <td>106</td>\n",
       "    </tr>\n",
       "    <tr>\n",
       "      <th>2</th>\n",
       "      <td>r</td>\n",
       "      <td>24</td>\n",
       "    </tr>\n",
       "  </tbody>\n",
       "</table>\n",
       "</div>"
      ],
      "text/plain": [
       "  drv  count_drv\n",
       "0   4        100\n",
       "1   f        106\n",
       "2   r         24"
      ]
     },
     "execution_count": 58,
     "metadata": {},
     "output_type": "execute_result"
    }
   ],
   "source": [
    "# Lab 2 : 빈도 막대 그래프 만들기\n",
    "# 구동방식(drv)별 빈도표 만들기\n",
    "# groupby를 하면 'drv'로 오름차순 정렬을 해준다.\n",
    "df_mpg = mpg.groupby('drv', as_index=False).agg(count_drv= ('drv','count'))\n",
    "df_mpg"
   ]
  },
  {
   "cell_type": "code",
   "execution_count": 60,
   "id": "b4865157",
   "metadata": {},
   "outputs": [
    {
     "data": {
      "text/plain": [
       "<AxesSubplot:xlabel='drv', ylabel='count_drv'>"
      ]
     },
     "execution_count": 60,
     "metadata": {},
     "output_type": "execute_result"
    },
    {
     "data": {
      "image/png": "[encoded data removed]",
      "text/plain": [
       "<Figure size 640x480 with 1 Axes>"
      ]
     },
     "metadata": {},
     "output_type": "display_data"
    }
   ],
   "source": [
    "# 구동 방식(drv)별 막대 그래프 만들기\n",
    "sns.barplot(data=df_mpg,x='drv',y='count_drv')"
   ]
  },
  {
   "cell_type": "code",
   "execution_count": 61,
   "id": "c8b4e26a",
   "metadata": {},
   "outputs": [
    {
     "data": {
      "text/plain": [
       "<AxesSubplot:xlabel='drv', ylabel='count'>"
      ]
     },
     "execution_count": 61,
     "metadata": {},
     "output_type": "execute_result"
    },
    {
     "data": {
      "image/png": "[encoded data removed]",
      "text/plain": [
       "<Figure size 640x480 with 1 Axes>"
      ]
     },
     "metadata": {},
     "output_type": "display_data"
    }
   ],
   "source": [
    "# sns.countplot()으로 빈도 막대 그래프 만들기\n",
    "sns.countplot(data = mpg, x='drv')"
   ]
  },
  {
   "cell_type": "code",
   "execution_count": 62,
   "id": "975d0fe2",
   "metadata": {},
   "outputs": [
    {
     "data": {
      "text/plain": [
       "<AxesSubplot:xlabel='drv', ylabel='count'>"
      ]
     },
     "execution_count": 62,
     "metadata": {},
     "output_type": "execute_result"
    },
    {
     "data": {
      "image/png": "[encoded data removed]",
      "text/plain": [
       "<Figure size 640x480 with 1 Axes>"
      ]
     },
     "metadata": {},
     "output_type": "display_data"
    }
   ],
   "source": [
    "# sns.countplot()으로 빈도 막대 그래프 만들기\n",
    "sns.countplot(data = mpg, x='drv', order = ['4','f','r'])"
   ]
  },
  {
   "cell_type": "code",
   "execution_count": 65,
   "id": "934dbbfe",
   "metadata": {},
   "outputs": [
    {
     "data": {
      "text/html": [
       "<div>\n",
       "<style scoped>\n",
       "    .dataframe tbody tr th:only-of-type {\n",
       "        vertical-align: middle;\n",
       "    }\n",
       "\n",
       "    .dataframe tbody tr th {\n",
       "        vertical-align: top;\n",
       "    }\n",
       "\n",
       "    .dataframe thead th {\n",
       "        text-align: right;\n",
       "    }\n",
       "</style>\n",
       "<table border=\"1\" class=\"dataframe\">\n",
       "  <thead>\n",
       "    <tr style=\"text-align: right;\">\n",
       "      <th></th>\n",
       "      <th>model</th>\n",
       "    </tr>\n",
       "  </thead>\n",
       "  <tbody>\n",
       "    <tr>\n",
       "      <th>0</th>\n",
       "      <td>a4</td>\n",
       "    </tr>\n",
       "    <tr>\n",
       "      <th>1</th>\n",
       "      <td>a4</td>\n",
       "    </tr>\n",
       "    <tr>\n",
       "      <th>2</th>\n",
       "      <td>a4</td>\n",
       "    </tr>\n",
       "    <tr>\n",
       "      <th>3</th>\n",
       "      <td>a4</td>\n",
       "    </tr>\n",
       "    <tr>\n",
       "      <th>4</th>\n",
       "      <td>a4</td>\n",
       "    </tr>\n",
       "    <tr>\n",
       "      <th>5</th>\n",
       "      <td>a4</td>\n",
       "    </tr>\n",
       "    <tr>\n",
       "      <th>6</th>\n",
       "      <td>a4</td>\n",
       "    </tr>\n",
       "    <tr>\n",
       "      <th>7</th>\n",
       "      <td>a4 quattro</td>\n",
       "    </tr>\n",
       "    <tr>\n",
       "      <th>8</th>\n",
       "      <td>a4 quattro</td>\n",
       "    </tr>\n",
       "    <tr>\n",
       "      <th>9</th>\n",
       "      <td>a4 quattro</td>\n",
       "    </tr>\n",
       "    <tr>\n",
       "      <th>10</th>\n",
       "      <td>a4 quattro</td>\n",
       "    </tr>\n",
       "    <tr>\n",
       "      <th>11</th>\n",
       "      <td>a4 quattro</td>\n",
       "    </tr>\n",
       "    <tr>\n",
       "      <th>12</th>\n",
       "      <td>a4 quattro</td>\n",
       "    </tr>\n",
       "    <tr>\n",
       "      <th>13</th>\n",
       "      <td>a4 quattro</td>\n",
       "    </tr>\n",
       "    <tr>\n",
       "      <th>14</th>\n",
       "      <td>a4 quattro</td>\n",
       "    </tr>\n",
       "    <tr>\n",
       "      <th>15</th>\n",
       "      <td>a6 quattro</td>\n",
       "    </tr>\n",
       "    <tr>\n",
       "      <th>16</th>\n",
       "      <td>a6 quattro</td>\n",
       "    </tr>\n",
       "    <tr>\n",
       "      <th>17</th>\n",
       "      <td>a6 quattro</td>\n",
       "    </tr>\n",
       "    <tr>\n",
       "      <th>18</th>\n",
       "      <td>c1500 suburban 2wd</td>\n",
       "    </tr>\n",
       "    <tr>\n",
       "      <th>19</th>\n",
       "      <td>c1500 suburban 2wd</td>\n",
       "    </tr>\n",
       "  </tbody>\n",
       "</table>\n",
       "</div>"
      ],
      "text/plain": [
       "                 model\n",
       "0                   a4\n",
       "1                   a4\n",
       "2                   a4\n",
       "3                   a4\n",
       "4                   a4\n",
       "5                   a4\n",
       "6                   a4\n",
       "7           a4 quattro\n",
       "8           a4 quattro\n",
       "9           a4 quattro\n",
       "10          a4 quattro\n",
       "11          a4 quattro\n",
       "12          a4 quattro\n",
       "13          a4 quattro\n",
       "14          a4 quattro\n",
       "15          a6 quattro\n",
       "16          a6 quattro\n",
       "17          a6 quattro\n",
       "18  c1500 suburban 2wd\n",
       "19  c1500 suburban 2wd"
      ]
     },
     "execution_count": 65,
     "metadata": {},
     "output_type": "execute_result"
    }
   ],
   "source": [
    "mpg[['model']].head(20)"
   ]
  },
  {
   "cell_type": "code",
   "execution_count": 67,
   "id": "b690ed19",
   "metadata": {},
   "outputs": [
    {
     "data": {
      "text/plain": [
       "array(['a4', 'a4 quattro', 'a6 quattro', 'c1500 suburban 2wd', 'corvette',\n",
       "       'k1500 tahoe 4wd', 'malibu', 'caravan 2wd', 'dakota pickup 4wd',\n",
       "       'durango 4wd', 'ram 1500 pickup 4wd', 'expedition 2wd',\n",
       "       'explorer 4wd', 'f150 pickup 4wd', 'mustang', 'civic', 'sonata',\n",
       "       'tiburon', 'grand cherokee 4wd', 'range rover', 'navigator 2wd',\n",
       "       'mountaineer 4wd', 'altima', 'maxima', 'pathfinder 4wd',\n",
       "       'grand prix', 'forester awd', 'impreza awd', '4runner 4wd',\n",
       "       'camry', 'camry solara', 'corolla', 'land cruiser wagon 4wd',\n",
       "       'toyota tacoma 4wd', 'gti', 'jetta', 'new beetle', 'passat'],\n",
       "      dtype=object)"
      ]
     },
     "execution_count": 67,
     "metadata": {},
     "output_type": "execute_result"
    }
   ],
   "source": [
    "mpg['model'].unique()"
   ]
  },
  {
   "cell_type": "code",
   "execution_count": 69,
   "id": "1495def0",
   "metadata": {},
   "outputs": [
    {
     "data": {
      "text/html": [
       "<div>\n",
       "<style scoped>\n",
       "    .dataframe tbody tr th:only-of-type {\n",
       "        vertical-align: middle;\n",
       "    }\n",
       "\n",
       "    .dataframe tbody tr th {\n",
       "        vertical-align: top;\n",
       "    }\n",
       "\n",
       "    .dataframe thead th {\n",
       "        text-align: right;\n",
       "    }\n",
       "</style>\n",
       "<table border=\"1\" class=\"dataframe\">\n",
       "  <thead>\n",
       "    <tr style=\"text-align: right;\">\n",
       "      <th></th>\n",
       "      <th>model</th>\n",
       "      <th>model_count</th>\n",
       "    </tr>\n",
       "  </thead>\n",
       "  <tbody>\n",
       "    <tr>\n",
       "      <th>0</th>\n",
       "      <td>4runner 4wd</td>\n",
       "      <td>6</td>\n",
       "    </tr>\n",
       "    <tr>\n",
       "      <th>1</th>\n",
       "      <td>a4</td>\n",
       "      <td>7</td>\n",
       "    </tr>\n",
       "    <tr>\n",
       "      <th>2</th>\n",
       "      <td>a4 quattro</td>\n",
       "      <td>8</td>\n",
       "    </tr>\n",
       "    <tr>\n",
       "      <th>3</th>\n",
       "      <td>a6 quattro</td>\n",
       "      <td>3</td>\n",
       "    </tr>\n",
       "    <tr>\n",
       "      <th>4</th>\n",
       "      <td>altima</td>\n",
       "      <td>6</td>\n",
       "    </tr>\n",
       "    <tr>\n",
       "      <th>5</th>\n",
       "      <td>c1500 suburban 2wd</td>\n",
       "      <td>5</td>\n",
       "    </tr>\n",
       "    <tr>\n",
       "      <th>6</th>\n",
       "      <td>camry</td>\n",
       "      <td>7</td>\n",
       "    </tr>\n",
       "    <tr>\n",
       "      <th>7</th>\n",
       "      <td>camry solara</td>\n",
       "      <td>7</td>\n",
       "    </tr>\n",
       "    <tr>\n",
       "      <th>8</th>\n",
       "      <td>caravan 2wd</td>\n",
       "      <td>11</td>\n",
       "    </tr>\n",
       "    <tr>\n",
       "      <th>9</th>\n",
       "      <td>civic</td>\n",
       "      <td>9</td>\n",
       "    </tr>\n",
       "    <tr>\n",
       "      <th>10</th>\n",
       "      <td>corolla</td>\n",
       "      <td>5</td>\n",
       "    </tr>\n",
       "    <tr>\n",
       "      <th>11</th>\n",
       "      <td>corvette</td>\n",
       "      <td>5</td>\n",
       "    </tr>\n",
       "    <tr>\n",
       "      <th>12</th>\n",
       "      <td>dakota pickup 4wd</td>\n",
       "      <td>9</td>\n",
       "    </tr>\n",
       "    <tr>\n",
       "      <th>13</th>\n",
       "      <td>durango 4wd</td>\n",
       "      <td>7</td>\n",
       "    </tr>\n",
       "    <tr>\n",
       "      <th>14</th>\n",
       "      <td>expedition 2wd</td>\n",
       "      <td>3</td>\n",
       "    </tr>\n",
       "    <tr>\n",
       "      <th>15</th>\n",
       "      <td>explorer 4wd</td>\n",
       "      <td>6</td>\n",
       "    </tr>\n",
       "    <tr>\n",
       "      <th>16</th>\n",
       "      <td>f150 pickup 4wd</td>\n",
       "      <td>7</td>\n",
       "    </tr>\n",
       "    <tr>\n",
       "      <th>17</th>\n",
       "      <td>forester awd</td>\n",
       "      <td>6</td>\n",
       "    </tr>\n",
       "    <tr>\n",
       "      <th>18</th>\n",
       "      <td>grand cherokee 4wd</td>\n",
       "      <td>8</td>\n",
       "    </tr>\n",
       "    <tr>\n",
       "      <th>19</th>\n",
       "      <td>grand prix</td>\n",
       "      <td>5</td>\n",
       "    </tr>\n",
       "    <tr>\n",
       "      <th>20</th>\n",
       "      <td>gti</td>\n",
       "      <td>5</td>\n",
       "    </tr>\n",
       "    <tr>\n",
       "      <th>21</th>\n",
       "      <td>impreza awd</td>\n",
       "      <td>8</td>\n",
       "    </tr>\n",
       "    <tr>\n",
       "      <th>22</th>\n",
       "      <td>jetta</td>\n",
       "      <td>9</td>\n",
       "    </tr>\n",
       "    <tr>\n",
       "      <th>23</th>\n",
       "      <td>k1500 tahoe 4wd</td>\n",
       "      <td>4</td>\n",
       "    </tr>\n",
       "    <tr>\n",
       "      <th>24</th>\n",
       "      <td>land cruiser wagon 4wd</td>\n",
       "      <td>2</td>\n",
       "    </tr>\n",
       "    <tr>\n",
       "      <th>25</th>\n",
       "      <td>malibu</td>\n",
       "      <td>5</td>\n",
       "    </tr>\n",
       "    <tr>\n",
       "      <th>26</th>\n",
       "      <td>maxima</td>\n",
       "      <td>3</td>\n",
       "    </tr>\n",
       "    <tr>\n",
       "      <th>27</th>\n",
       "      <td>mountaineer 4wd</td>\n",
       "      <td>4</td>\n",
       "    </tr>\n",
       "    <tr>\n",
       "      <th>28</th>\n",
       "      <td>mustang</td>\n",
       "      <td>9</td>\n",
       "    </tr>\n",
       "    <tr>\n",
       "      <th>29</th>\n",
       "      <td>navigator 2wd</td>\n",
       "      <td>3</td>\n",
       "    </tr>\n",
       "    <tr>\n",
       "      <th>30</th>\n",
       "      <td>new beetle</td>\n",
       "      <td>6</td>\n",
       "    </tr>\n",
       "    <tr>\n",
       "      <th>31</th>\n",
       "      <td>passat</td>\n",
       "      <td>7</td>\n",
       "    </tr>\n",
       "    <tr>\n",
       "      <th>32</th>\n",
       "      <td>pathfinder 4wd</td>\n",
       "      <td>4</td>\n",
       "    </tr>\n",
       "    <tr>\n",
       "      <th>33</th>\n",
       "      <td>ram 1500 pickup 4wd</td>\n",
       "      <td>10</td>\n",
       "    </tr>\n",
       "    <tr>\n",
       "      <th>34</th>\n",
       "      <td>range rover</td>\n",
       "      <td>4</td>\n",
       "    </tr>\n",
       "    <tr>\n",
       "      <th>35</th>\n",
       "      <td>sonata</td>\n",
       "      <td>7</td>\n",
       "    </tr>\n",
       "    <tr>\n",
       "      <th>36</th>\n",
       "      <td>tiburon</td>\n",
       "      <td>7</td>\n",
       "    </tr>\n",
       "    <tr>\n",
       "      <th>37</th>\n",
       "      <td>toyota tacoma 4wd</td>\n",
       "      <td>7</td>\n",
       "    </tr>\n",
       "  </tbody>\n",
       "</table>\n",
       "</div>"
      ],
      "text/plain": [
       "                     model  model_count\n",
       "0              4runner 4wd            6\n",
       "1                       a4            7\n",
       "2               a4 quattro            8\n",
       "3               a6 quattro            3\n",
       "4                   altima            6\n",
       "5       c1500 suburban 2wd            5\n",
       "6                    camry            7\n",
       "7             camry solara            7\n",
       "8              caravan 2wd           11\n",
       "9                    civic            9\n",
       "10                 corolla            5\n",
       "11                corvette            5\n",
       "12       dakota pickup 4wd            9\n",
       "13             durango 4wd            7\n",
       "14          expedition 2wd            3\n",
       "15            explorer 4wd            6\n",
       "16         f150 pickup 4wd            7\n",
       "17            forester awd            6\n",
       "18      grand cherokee 4wd            8\n",
       "19              grand prix            5\n",
       "20                     gti            5\n",
       "21             impreza awd            8\n",
       "22                   jetta            9\n",
       "23         k1500 tahoe 4wd            4\n",
       "24  land cruiser wagon 4wd            2\n",
       "25                  malibu            5\n",
       "26                  maxima            3\n",
       "27         mountaineer 4wd            4\n",
       "28                 mustang            9\n",
       "29           navigator 2wd            3\n",
       "30              new beetle            6\n",
       "31                  passat            7\n",
       "32          pathfinder 4wd            4\n",
       "33     ram 1500 pickup 4wd           10\n",
       "34             range rover            4\n",
       "35                  sonata            7\n",
       "36                 tiburon            7\n",
       "37       toyota tacoma 4wd            7"
      ]
     },
     "execution_count": 69,
     "metadata": {},
     "output_type": "execute_result"
    }
   ],
   "source": [
    "model_count_mpg=mpg.groupby('model', as_index= False).agg(model_count=('model','count'))\n",
    "model_count_mpg"
   ]
  },
  {
   "cell_type": "code",
   "execution_count": 70,
   "id": "17e02dfe",
   "metadata": {},
   "outputs": [
    {
     "data": {
      "text/plain": [
       "array(['4runner 4wd', 'a4', 'a4 quattro', 'a6 quattro', 'altima',\n",
       "       'c1500 suburban 2wd', 'camry', 'camry solara', 'caravan 2wd',\n",
       "       'civic', 'corolla', 'corvette', 'dakota pickup 4wd', 'durango 4wd',\n",
       "       'expedition 2wd', 'explorer 4wd', 'f150 pickup 4wd',\n",
       "       'forester awd', 'grand cherokee 4wd', 'grand prix', 'gti',\n",
       "       'impreza awd', 'jetta', 'k1500 tahoe 4wd',\n",
       "       'land cruiser wagon 4wd', 'malibu', 'maxima', 'mountaineer 4wd',\n",
       "       'mustang', 'navigator 2wd', 'new beetle', 'passat',\n",
       "       'pathfinder 4wd', 'ram 1500 pickup 4wd', 'range rover', 'sonata',\n",
       "       'tiburon', 'toyota tacoma 4wd'], dtype=object)"
      ]
     },
     "execution_count": 70,
     "metadata": {},
     "output_type": "execute_result"
    }
   ],
   "source": [
    "model_count_mpg['model'].unique()"
   ]
  },
  {
   "cell_type": "code",
   "execution_count": 73,
   "id": "b0dece93",
   "metadata": {},
   "outputs": [
    {
     "data": {
      "text/plain": [
       "caravan 2wd               11\n",
       "ram 1500 pickup 4wd       10\n",
       "civic                      9\n",
       "jetta                      9\n",
       "dakota pickup 4wd          9\n",
       "mustang                    9\n",
       "impreza awd                8\n",
       "a4 quattro                 8\n",
       "grand cherokee 4wd         8\n",
       "a4                         7\n",
       "toyota tacoma 4wd          7\n",
       "camry solara               7\n",
       "camry                      7\n",
       "tiburon                    7\n",
       "sonata                     7\n",
       "passat                     7\n",
       "f150 pickup 4wd            7\n",
       "durango 4wd                7\n",
       "explorer 4wd               6\n",
       "new beetle                 6\n",
       "altima                     6\n",
       "4runner 4wd                6\n",
       "forester awd               6\n",
       "gti                        5\n",
       "c1500 suburban 2wd         5\n",
       "corolla                    5\n",
       "corvette                   5\n",
       "malibu                     5\n",
       "grand prix                 5\n",
       "k1500 tahoe 4wd            4\n",
       "pathfinder 4wd             4\n",
       "mountaineer 4wd            4\n",
       "range rover                4\n",
       "maxima                     3\n",
       "navigator 2wd              3\n",
       "a6 quattro                 3\n",
       "expedition 2wd             3\n",
       "land cruiser wagon 4wd     2\n",
       "Name: model, dtype: int64"
      ]
     },
     "execution_count": 73,
     "metadata": {},
     "output_type": "execute_result"
    }
   ],
   "source": [
    "#자주 나오는 순서대로 정렬해준다.\n",
    "mpg['model'].value_counts()"
   ]
  },
  {
   "cell_type": "code",
   "execution_count": 72,
   "id": "84c2a9e4",
   "metadata": {},
   "outputs": [
    {
     "data": {
      "text/plain": [
       "Index(['caravan 2wd', 'ram 1500 pickup 4wd', 'civic', 'jetta',\n",
       "       'dakota pickup 4wd', 'mustang', 'impreza awd', 'a4 quattro',\n",
       "       'grand cherokee 4wd', 'a4', 'toyota tacoma 4wd', 'camry solara',\n",
       "       'camry', 'tiburon', 'sonata', 'passat', 'f150 pickup 4wd',\n",
       "       'durango 4wd', 'explorer 4wd', 'new beetle', 'altima', '4runner 4wd',\n",
       "       'forester awd', 'gti', 'c1500 suburban 2wd', 'corolla', 'corvette',\n",
       "       'malibu', 'grand prix', 'k1500 tahoe 4wd', 'pathfinder 4wd',\n",
       "       'mountaineer 4wd', 'range rover', 'maxima', 'navigator 2wd',\n",
       "       'a6 quattro', 'expedition 2wd', 'land cruiser wagon 4wd'],\n",
       "      dtype='object')"
      ]
     },
     "execution_count": 72,
     "metadata": {},
     "output_type": "execute_result"
    }
   ],
   "source": [
    "mpg['model'].value_counts().index"
   ]
  },
  {
   "cell_type": "code",
   "execution_count": 74,
   "id": "7a065f07",
   "metadata": {},
   "outputs": [
    {
     "data": {
      "text/plain": [
       "<AxesSubplot:xlabel='model', ylabel='count'>"
      ]
     },
     "execution_count": 74,
     "metadata": {},
     "output_type": "execute_result"
    },
    {
     "data": {
      "image/png": "[encoded data removed]",
      "text/plain": [
       "<Figure size 640x480 with 1 Axes>"
      ]
     },
     "metadata": {},
     "output_type": "display_data"
    }
   ],
   "source": [
    "# sns.countplot()으로 빈도 막대 그래프 만들기\n",
    "sns.countplot(data = mpg, x='model', order =mpg['model'].value_counts().index)"
   ]
  },
  {
   "cell_type": "code",
   "execution_count": 75,
   "id": "f78ee88f",
   "metadata": {},
   "outputs": [
    {
     "data": {
      "text/plain": [
       "<AxesSubplot:xlabel='model', ylabel='count'>"
      ]
     },
     "execution_count": 75,
     "metadata": {},
     "output_type": "execute_result"
    },
    {
     "data": {
      "image/png": "[encoded data removed]",
      "text/plain": [
       "<Figure size 640x480 with 1 Axes>"
      ]
     },
     "metadata": {},
     "output_type": "display_data"
    }
   ],
   "source": [
    "sns.countplot(data = mpg, x='model', order =mpg['model'].value_counts().head(5).index)"
   ]
  },
  {
   "cell_type": "code",
   "execution_count": 77,
   "id": "071b19ce",
   "metadata": {},
   "outputs": [
    {
     "data": {
      "text/html": [
       "<div>\n",
       "<style scoped>\n",
       "    .dataframe tbody tr th:only-of-type {\n",
       "        vertical-align: middle;\n",
       "    }\n",
       "\n",
       "    .dataframe tbody tr th {\n",
       "        vertical-align: top;\n",
       "    }\n",
       "\n",
       "    .dataframe thead th {\n",
       "        text-align: right;\n",
       "    }\n",
       "</style>\n",
       "<table border=\"1\" class=\"dataframe\">\n",
       "  <thead>\n",
       "    <tr style=\"text-align: right;\">\n",
       "      <th></th>\n",
       "      <th>date</th>\n",
       "      <th>pce</th>\n",
       "      <th>pop</th>\n",
       "      <th>psavert</th>\n",
       "      <th>uempmed</th>\n",
       "      <th>unemploy</th>\n",
       "    </tr>\n",
       "  </thead>\n",
       "  <tbody>\n",
       "    <tr>\n",
       "      <th>0</th>\n",
       "      <td>1967-07-01</td>\n",
       "      <td>506.7</td>\n",
       "      <td>198712.0</td>\n",
       "      <td>12.6</td>\n",
       "      <td>4.5</td>\n",
       "      <td>2944</td>\n",
       "    </tr>\n",
       "    <tr>\n",
       "      <th>1</th>\n",
       "      <td>1967-08-01</td>\n",
       "      <td>509.8</td>\n",
       "      <td>198911.0</td>\n",
       "      <td>12.6</td>\n",
       "      <td>4.7</td>\n",
       "      <td>2945</td>\n",
       "    </tr>\n",
       "    <tr>\n",
       "      <th>2</th>\n",
       "      <td>1967-09-01</td>\n",
       "      <td>515.6</td>\n",
       "      <td>199113.0</td>\n",
       "      <td>11.9</td>\n",
       "      <td>4.6</td>\n",
       "      <td>2958</td>\n",
       "    </tr>\n",
       "    <tr>\n",
       "      <th>3</th>\n",
       "      <td>1967-10-01</td>\n",
       "      <td>512.2</td>\n",
       "      <td>199311.0</td>\n",
       "      <td>12.9</td>\n",
       "      <td>4.9</td>\n",
       "      <td>3143</td>\n",
       "    </tr>\n",
       "    <tr>\n",
       "      <th>4</th>\n",
       "      <td>1967-11-01</td>\n",
       "      <td>517.4</td>\n",
       "      <td>199498.0</td>\n",
       "      <td>12.8</td>\n",
       "      <td>4.7</td>\n",
       "      <td>3066</td>\n",
       "    </tr>\n",
       "  </tbody>\n",
       "</table>\n",
       "</div>"
      ],
      "text/plain": [
       "         date    pce       pop  psavert  uempmed  unemploy\n",
       "0  1967-07-01  506.7  198712.0     12.6      4.5      2944\n",
       "1  1967-08-01  509.8  198911.0     12.6      4.7      2945\n",
       "2  1967-09-01  515.6  199113.0     11.9      4.6      2958\n",
       "3  1967-10-01  512.2  199311.0     12.9      4.9      3143\n",
       "4  1967-11-01  517.4  199498.0     12.8      4.7      3066"
      ]
     },
     "execution_count": 77,
     "metadata": {},
     "output_type": "execute_result"
    }
   ],
   "source": [
    "# 08-4 선 그래프 - 시간에 따라 달라지는 데이터 표현하기\n",
    "economics = pd.read_csv('C:/Users/213/Data/economics.csv')\n",
    "economics.head()"
   ]
  },
  {
   "cell_type": "code",
   "execution_count": 78,
   "id": "9a0846b8",
   "metadata": {},
   "outputs": [],
   "source": [
    "# lineplot()을 이용하여 선 그래프 작성\n",
    "# x축 date에 여러 날짜가 겹쳐 출력됨\n",
    "import seaborn as sns"
   ]
  },
  {
   "cell_type": "code",
   "execution_count": 80,
   "id": "726a78ba",
   "metadata": {},
   "outputs": [
    {
     "data": {
      "text/plain": [
       "<AxesSubplot:xlabel='date', ylabel='unemploy'>"
      ]
     },
     "execution_count": 80,
     "metadata": {},
     "output_type": "execute_result"
    },
    {
     "data": {
      "image/png": "[encoded data removed]",
      "text/plain": [
       "<Figure size 640x480 with 1 Axes>"
      ]
     },
     "metadata": {},
     "output_type": "display_data"
    }
   ],
   "source": [
    "#그래프 스타일\n",
    "#style : whitegrid, darkgrid, ticks, white, dark\n",
    "sns.set_style('darkgrid')\n",
    "sns.lineplot(data = economics, x = 'date', y='unemploy')"
   ]
  },
  {
   "cell_type": "code",
   "execution_count": 81,
   "id": "88c3881e",
   "metadata": {},
   "outputs": [],
   "source": [
    "# x 축에 연도 표시\n",
    "economics['date2'] = pd.to_datetime(economics['date'])"
   ]
  },
  {
   "cell_type": "code",
   "execution_count": 82,
   "id": "b92d3312",
   "metadata": {},
   "outputs": [
    {
     "name": "stdout",
     "output_type": "stream",
     "text": [
      "<class 'pandas.core.frame.DataFrame'>\n",
      "RangeIndex: 574 entries, 0 to 573\n",
      "Data columns (total 7 columns):\n",
      " #   Column    Non-Null Count  Dtype         \n",
      "---  ------    --------------  -----         \n",
      " 0   date      574 non-null    object        \n",
      " 1   pce       574 non-null    float64       \n",
      " 2   pop       574 non-null    float64       \n",
      " 3   psavert   574 non-null    float64       \n",
      " 4   uempmed   574 non-null    float64       \n",
      " 5   unemploy  574 non-null    int64         \n",
      " 6   date2     574 non-null    datetime64[ns]\n",
      "dtypes: datetime64[ns](1), float64(4), int64(1), object(1)\n",
      "memory usage: 31.5+ KB\n"
     ]
    }
   ],
   "source": [
    "economics.info()"
   ]
  },
  {
   "cell_type": "code",
   "execution_count": 83,
   "id": "7adadcf3",
   "metadata": {},
   "outputs": [
    {
     "data": {
      "text/html": [
       "<div>\n",
       "<style scoped>\n",
       "    .dataframe tbody tr th:only-of-type {\n",
       "        vertical-align: middle;\n",
       "    }\n",
       "\n",
       "    .dataframe tbody tr th {\n",
       "        vertical-align: top;\n",
       "    }\n",
       "\n",
       "    .dataframe thead th {\n",
       "        text-align: right;\n",
       "    }\n",
       "</style>\n",
       "<table border=\"1\" class=\"dataframe\">\n",
       "  <thead>\n",
       "    <tr style=\"text-align: right;\">\n",
       "      <th></th>\n",
       "      <th>date</th>\n",
       "      <th>date2</th>\n",
       "    </tr>\n",
       "  </thead>\n",
       "  <tbody>\n",
       "    <tr>\n",
       "      <th>0</th>\n",
       "      <td>1967-07-01</td>\n",
       "      <td>1967-07-01</td>\n",
       "    </tr>\n",
       "    <tr>\n",
       "      <th>1</th>\n",
       "      <td>1967-08-01</td>\n",
       "      <td>1967-08-01</td>\n",
       "    </tr>\n",
       "    <tr>\n",
       "      <th>2</th>\n",
       "      <td>1967-09-01</td>\n",
       "      <td>1967-09-01</td>\n",
       "    </tr>\n",
       "    <tr>\n",
       "      <th>3</th>\n",
       "      <td>1967-10-01</td>\n",
       "      <td>1967-10-01</td>\n",
       "    </tr>\n",
       "    <tr>\n",
       "      <th>4</th>\n",
       "      <td>1967-11-01</td>\n",
       "      <td>1967-11-01</td>\n",
       "    </tr>\n",
       "  </tbody>\n",
       "</table>\n",
       "</div>"
      ],
      "text/plain": [
       "         date      date2\n",
       "0  1967-07-01 1967-07-01\n",
       "1  1967-08-01 1967-08-01\n",
       "2  1967-09-01 1967-09-01\n",
       "3  1967-10-01 1967-10-01\n",
       "4  1967-11-01 1967-11-01"
      ]
     },
     "execution_count": 83,
     "metadata": {},
     "output_type": "execute_result"
    }
   ],
   "source": [
    "economics[['date','date2']].head()"
   ]
  },
  {
   "cell_type": "code",
   "execution_count": 84,
   "id": "ae60b604",
   "metadata": {},
   "outputs": [
    {
     "data": {
      "text/plain": [
       "0      1967\n",
       "1      1967\n",
       "2      1967\n",
       "3      1967\n",
       "4      1967\n",
       "       ... \n",
       "569    2014\n",
       "570    2015\n",
       "571    2015\n",
       "572    2015\n",
       "573    2015\n",
       "Name: date2, Length: 574, dtype: int64"
      ]
     },
     "execution_count": 84,
     "metadata": {},
     "output_type": "execute_result"
    }
   ],
   "source": [
    "economics['date2'].dt.year"
   ]
  },
  {
   "cell_type": "code",
   "execution_count": 85,
   "id": "4becdba9",
   "metadata": {},
   "outputs": [
    {
     "data": {
      "text/plain": [
       "0       7\n",
       "1       8\n",
       "2       9\n",
       "3      10\n",
       "4      11\n",
       "       ..\n",
       "569    12\n",
       "570     1\n",
       "571     2\n",
       "572     3\n",
       "573     4\n",
       "Name: date2, Length: 574, dtype: int64"
      ]
     },
     "execution_count": 85,
     "metadata": {},
     "output_type": "execute_result"
    }
   ],
   "source": [
    "economics['date2'].dt.month"
   ]
  },
  {
   "cell_type": "code",
   "execution_count": 86,
   "id": "63e68a5d",
   "metadata": {},
   "outputs": [
    {
     "data": {
      "text/plain": [
       "0      1\n",
       "1      1\n",
       "2      1\n",
       "3      1\n",
       "4      1\n",
       "      ..\n",
       "569    1\n",
       "570    1\n",
       "571    1\n",
       "572    1\n",
       "573    1\n",
       "Name: date2, Length: 574, dtype: int64"
      ]
     },
     "execution_count": 86,
     "metadata": {},
     "output_type": "execute_result"
    }
   ],
   "source": [
    "economics['date2'].dt.day"
   ]
  },
  {
   "cell_type": "code",
   "execution_count": 88,
   "id": "4c3ebfb2",
   "metadata": {},
   "outputs": [
    {
     "data": {
      "text/html": [
       "<div>\n",
       "<style scoped>\n",
       "    .dataframe tbody tr th:only-of-type {\n",
       "        vertical-align: middle;\n",
       "    }\n",
       "\n",
       "    .dataframe tbody tr th {\n",
       "        vertical-align: top;\n",
       "    }\n",
       "\n",
       "    .dataframe thead th {\n",
       "        text-align: right;\n",
       "    }\n",
       "</style>\n",
       "<table border=\"1\" class=\"dataframe\">\n",
       "  <thead>\n",
       "    <tr style=\"text-align: right;\">\n",
       "      <th></th>\n",
       "      <th>date</th>\n",
       "      <th>pce</th>\n",
       "      <th>pop</th>\n",
       "      <th>psavert</th>\n",
       "      <th>uempmed</th>\n",
       "      <th>unemploy</th>\n",
       "      <th>date2</th>\n",
       "      <th>year</th>\n",
       "    </tr>\n",
       "  </thead>\n",
       "  <tbody>\n",
       "    <tr>\n",
       "      <th>0</th>\n",
       "      <td>1967-07-01</td>\n",
       "      <td>506.7</td>\n",
       "      <td>198712.0</td>\n",
       "      <td>12.6</td>\n",
       "      <td>4.5</td>\n",
       "      <td>2944</td>\n",
       "      <td>1967-07-01</td>\n",
       "      <td>1967</td>\n",
       "    </tr>\n",
       "    <tr>\n",
       "      <th>1</th>\n",
       "      <td>1967-08-01</td>\n",
       "      <td>509.8</td>\n",
       "      <td>198911.0</td>\n",
       "      <td>12.6</td>\n",
       "      <td>4.7</td>\n",
       "      <td>2945</td>\n",
       "      <td>1967-08-01</td>\n",
       "      <td>1967</td>\n",
       "    </tr>\n",
       "    <tr>\n",
       "      <th>2</th>\n",
       "      <td>1967-09-01</td>\n",
       "      <td>515.6</td>\n",
       "      <td>199113.0</td>\n",
       "      <td>11.9</td>\n",
       "      <td>4.6</td>\n",
       "      <td>2958</td>\n",
       "      <td>1967-09-01</td>\n",
       "      <td>1967</td>\n",
       "    </tr>\n",
       "    <tr>\n",
       "      <th>3</th>\n",
       "      <td>1967-10-01</td>\n",
       "      <td>512.2</td>\n",
       "      <td>199311.0</td>\n",
       "      <td>12.9</td>\n",
       "      <td>4.9</td>\n",
       "      <td>3143</td>\n",
       "      <td>1967-10-01</td>\n",
       "      <td>1967</td>\n",
       "    </tr>\n",
       "    <tr>\n",
       "      <th>4</th>\n",
       "      <td>1967-11-01</td>\n",
       "      <td>517.4</td>\n",
       "      <td>199498.0</td>\n",
       "      <td>12.8</td>\n",
       "      <td>4.7</td>\n",
       "      <td>3066</td>\n",
       "      <td>1967-11-01</td>\n",
       "      <td>1967</td>\n",
       "    </tr>\n",
       "  </tbody>\n",
       "</table>\n",
       "</div>"
      ],
      "text/plain": [
       "         date    pce       pop  psavert  uempmed  unemploy      date2  year\n",
       "0  1967-07-01  506.7  198712.0     12.6      4.5      2944 1967-07-01  1967\n",
       "1  1967-08-01  509.8  198911.0     12.6      4.7      2945 1967-08-01  1967\n",
       "2  1967-09-01  515.6  199113.0     11.9      4.6      2958 1967-09-01  1967\n",
       "3  1967-10-01  512.2  199311.0     12.9      4.9      3143 1967-10-01  1967\n",
       "4  1967-11-01  517.4  199498.0     12.8      4.7      3066 1967-11-01  1967"
      ]
     },
     "execution_count": 88,
     "metadata": {},
     "output_type": "execute_result"
    }
   ],
   "source": [
    "economics['year'] = economics['date2'].dt.year\n",
    "economics.head()"
   ]
  },
  {
   "cell_type": "code",
   "execution_count": 90,
   "id": "55e36559",
   "metadata": {},
   "outputs": [
    {
     "data": {
      "text/plain": [
       "<AxesSubplot:xlabel='year', ylabel='unemploy'>"
      ]
     },
     "execution_count": 90,
     "metadata": {},
     "output_type": "execute_result"
    },
    {
     "data": {
      "image/png": "[encoded data removed]",
      "text/plain": [
       "<Figure size 640x480 with 1 Axes>"
      ]
     },
     "metadata": {},
     "output_type": "display_data"
    }
   ],
   "source": [
    "# x 축에 연도 표기\n",
    "# 선은 추정 회귀선을 의미, 그림자는 신뢰구간을 표시 95% (sampling을 통해서 얻어내는 값\n",
    "sns.lineplot(data = economics, x='year', y='unemploy')"
   ]
  },
  {
   "cell_type": "code",
   "execution_count": 91,
   "id": "38c15d38",
   "metadata": {
    "scrolled": true
   },
   "outputs": [
    {
     "data": {
      "text/html": [
       "<div>\n",
       "<style scoped>\n",
       "    .dataframe tbody tr th:only-of-type {\n",
       "        vertical-align: middle;\n",
       "    }\n",
       "\n",
       "    .dataframe tbody tr th {\n",
       "        vertical-align: top;\n",
       "    }\n",
       "\n",
       "    .dataframe thead th {\n",
       "        text-align: right;\n",
       "    }\n",
       "</style>\n",
       "<table border=\"1\" class=\"dataframe\">\n",
       "  <thead>\n",
       "    <tr style=\"text-align: right;\">\n",
       "      <th></th>\n",
       "      <th>unemploy</th>\n",
       "    </tr>\n",
       "  </thead>\n",
       "  <tbody>\n",
       "    <tr>\n",
       "      <th>count</th>\n",
       "      <td>12.000000</td>\n",
       "    </tr>\n",
       "    <tr>\n",
       "      <th>mean</th>\n",
       "      <td>10714.916667</td>\n",
       "    </tr>\n",
       "    <tr>\n",
       "      <th>std</th>\n",
       "      <td>856.415942</td>\n",
       "    </tr>\n",
       "    <tr>\n",
       "      <th>min</th>\n",
       "      <td>9397.000000</td>\n",
       "    </tr>\n",
       "    <tr>\n",
       "      <th>25%</th>\n",
       "      <td>10156.750000</td>\n",
       "    </tr>\n",
       "    <tr>\n",
       "      <th>50%</th>\n",
       "      <td>10693.500000</td>\n",
       "    </tr>\n",
       "    <tr>\n",
       "      <th>75%</th>\n",
       "      <td>11295.000000</td>\n",
       "    </tr>\n",
       "    <tr>\n",
       "      <th>max</th>\n",
       "      <td>12051.000000</td>\n",
       "    </tr>\n",
       "  </tbody>\n",
       "</table>\n",
       "</div>"
      ],
      "text/plain": [
       "           unemploy\n",
       "count     12.000000\n",
       "mean   10714.916667\n",
       "std      856.415942\n",
       "min     9397.000000\n",
       "25%    10156.750000\n",
       "50%    10693.500000\n",
       "75%    11295.000000\n",
       "max    12051.000000"
      ]
     },
     "execution_count": 91,
     "metadata": {},
     "output_type": "execute_result"
    }
   ],
   "source": [
    "# query함수는 정제된 데이터에서 특정 조건을 만족하는 결과를 추출\n",
    "economics.query('year == 1982')['unemploy'].to_frame().describe()"
   ]
  },
  {
   "cell_type": "code",
   "execution_count": 94,
   "id": "6d53ec5e",
   "metadata": {
    "scrolled": true
   },
   "outputs": [
    {
     "data": {
      "text/plain": [
       "<AxesSubplot:xlabel='year', ylabel='unemploy'>"
      ]
     },
     "execution_count": 94,
     "metadata": {},
     "output_type": "execute_result"
    },
    {
     "data": {
      "image/png": "[encoded data removed]",
      "text/plain": [
       "<Figure size 640x480 with 1 Axes>"
      ]
     },
     "metadata": {},
     "output_type": "display_data"
    }
   ],
   "source": [
    "# x 축에 연도 표기 (선 위 아래 표시 면적은 신뢰구간, 오차가 존재할수 있는 구간을 표시\n",
    "# ci = None은 deprecated 되었다. 대신 errorbar=None을 작성\n",
    "#sns.lineplot(data = economics, x = 'year', y = 'unemploy', ci = None)\n",
    "sns.lineplot(data = economics, x = 'year', y = 'unemploy', errorbar=None)"
   ]
  },
  {
   "cell_type": "code",
   "execution_count": null,
   "id": "a5b9894a",
   "metadata": {},
   "outputs": [],
   "source": []
  }
 ],
 "metadata": {
  "kernelspec": {
   "display_name": "Python 3 (ipykernel)",
   "language": "python",
   "name": "python3"
  },
  "language_info": {
   "codemirror_mode": {
    "name": "ipython",
    "version": 3
   },
   "file_extension": ".py",
   "mimetype": "text/x-python",
   "name": "python",
   "nbconvert_exporter": "python",
   "pygments_lexer": "ipython3",
   "version": "3.9.13"
  }
 },
 "nbformat": 4,
 "nbformat_minor": 5
}
